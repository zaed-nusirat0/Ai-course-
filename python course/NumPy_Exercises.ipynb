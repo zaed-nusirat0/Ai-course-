{
 "cells": [
  {
   "cell_type": "markdown",
   "metadata": {
    "id": "PXPjhRzHISnm"
   },
   "source": [
    "# NumPy Exercises"
   ]
  },
  {
   "cell_type": "markdown",
   "metadata": {
    "id": "S9gbnkmxISno"
   },
   "source": [
    "#### Import NumPy as np"
   ]
  },
  {
   "cell_type": "code",
   "execution_count": 1,
   "metadata": {
    "id": "XyJPk1FdISno"
   },
   "outputs": [],
   "source": [
    "import numpy as np "
   ]
  },
  {
   "cell_type": "markdown",
   "metadata": {
    "id": "5CZzd8A2ISnp"
   },
   "source": [
    "#### Create an array of 10 zeros"
   ]
  },
  {
   "cell_type": "code",
   "execution_count": 5,
   "metadata": {
    "id": "LEhKSht7ISnp",
    "outputId": "3037793f-a5a0-48e7-cba4-525c94fbadd3"
   },
   "outputs": [
    {
     "data": {
      "text/plain": [
       "array([0., 0., 0., 0., 0., 0., 0., 0., 0., 0.])"
      ]
     },
     "execution_count": 5,
     "metadata": {},
     "output_type": "execute_result"
    }
   ],
   "source": [
    "arrray_zeros=np.zeros(10)\n",
    "arrray_zeros"
   ]
  },
  {
   "cell_type": "markdown",
   "metadata": {
    "id": "etEjR14kISnp"
   },
   "source": [
    "#### Create an array of 10 ones"
   ]
  },
  {
   "cell_type": "code",
   "execution_count": 4,
   "metadata": {
    "id": "wpdTI8VFISnp",
    "outputId": "531134c0-a2ce-4265-c49d-9d68b6ab993b"
   },
   "outputs": [
    {
     "data": {
      "text/plain": [
       "array([1., 1., 1., 1., 1., 1., 1., 1., 1., 1.])"
      ]
     },
     "execution_count": 4,
     "metadata": {},
     "output_type": "execute_result"
    }
   ],
   "source": [
    "array_ones=np.ones(10)\n",
    "array_ones"
   ]
  },
  {
   "cell_type": "markdown",
   "metadata": {
    "id": "54OfsI4YISnq"
   },
   "source": [
    "#### Create an array of 10 fives"
   ]
  },
  {
   "cell_type": "code",
   "execution_count": 7,
   "metadata": {
    "id": "RTRuHATxISnq",
    "outputId": "fb60d69a-5653-425d-a15c-21d83b1f0daf"
   },
   "outputs": [
    {
     "data": {
      "text/plain": [
       "array([5, 5, 5, 5, 5, 5, 5, 5, 5, 5])"
      ]
     },
     "execution_count": 7,
     "metadata": {},
     "output_type": "execute_result"
    }
   ],
   "source": [
    "array_five=np.full(10,fill_value=5)\n",
    "array_five"
   ]
  },
  {
   "cell_type": "markdown",
   "metadata": {
    "id": "cnEu0uoqISnq"
   },
   "source": [
    "#### Create an array of the integers from 10 to 50"
   ]
  },
  {
   "cell_type": "code",
   "execution_count": null,
   "metadata": {
    "id": "0ZBwkpmgISnq",
    "outputId": "ee9e4b54-f56a-4a19-d7f7-847763872b64"
   },
   "outputs": [
    {
     "data": {
      "text/plain": [
       "array([10, 11, 12, 13, 14, 15, 16, 17, 18, 19, 20, 21, 22, 23, 24, 25, 26,\n",
       "       27, 28, 29, 30, 31, 32, 33, 34, 35, 36, 37, 38, 39, 40, 41, 42, 43,\n",
       "       44, 45, 46, 47, 48, 49])"
      ]
     },
     "execution_count": 10,
     "metadata": {},
     "output_type": "execute_result"
    }
   ],
   "source": [
    "array_integers=np.arange(10,51)\n",
    "array_integers"
   ]
  },
  {
   "cell_type": "markdown",
   "metadata": {
    "id": "cfiP2QLHISnr"
   },
   "source": [
    "#### Create an array of all the even integers from 10 to 50"
   ]
  },
  {
   "cell_type": "code",
   "execution_count": 12,
   "metadata": {
    "id": "2gUKrAMAISns",
    "outputId": "dab130bf-9dcc-4034-f152-21f6dfd63b5d",
    "scrolled": true
   },
   "outputs": [
    {
     "data": {
      "text/plain": [
       "array([10, 12, 14, 16, 18, 20, 22, 24, 26, 28, 30, 32, 34, 36, 38, 40, 42,\n",
       "       44, 46, 48])"
      ]
     },
     "execution_count": 12,
     "metadata": {},
     "output_type": "execute_result"
    }
   ],
   "source": [
    "array_even=np.arange(10,50,2)\n",
    "array_even"
   ]
  },
  {
   "cell_type": "markdown",
   "metadata": {
    "id": "-hzWJdHtISns"
   },
   "source": [
    "#### Create a 3x3 matrix with values ranging from 0 to 8"
   ]
  },
  {
   "cell_type": "code",
   "execution_count": 14,
   "metadata": {
    "id": "OzgxhPOfISns",
    "outputId": "fa93589b-18d2-42d6-bf5a-1e9ab392b4fe"
   },
   "outputs": [
    {
     "data": {
      "text/plain": [
       "array([[0, 1, 2],\n",
       "       [3, 4, 5],\n",
       "       [6, 7, 8]])"
      ]
     },
     "execution_count": 14,
     "metadata": {},
     "output_type": "execute_result"
    }
   ],
   "source": [
    "array_reshape=np.arange(0,9).reshape(3,3)\n",
    "array_reshape"
   ]
  },
  {
   "cell_type": "markdown",
   "metadata": {
    "id": "fr0s4oljISns"
   },
   "source": [
    "#### Create a 3x3 identity matrix"
   ]
  },
  {
   "cell_type": "code",
   "execution_count": 18,
   "metadata": {
    "id": "w_sReGqlISns",
    "outputId": "caf8450b-5f01-4a1e-da09-a1ba001cf600",
    "scrolled": true
   },
   "outputs": [
    {
     "data": {
      "text/plain": [
       "array([[1., 0., 0.],\n",
       "       [0., 1., 0.],\n",
       "       [0., 0., 1.]])"
      ]
     },
     "execution_count": 18,
     "metadata": {},
     "output_type": "execute_result"
    }
   ],
   "source": [
    "array_identity=np.identity(3)\n",
    "array_identity\n"
   ]
  },
  {
   "cell_type": "markdown",
   "metadata": {
    "id": "2oehJoFFISns"
   },
   "source": [
    "#### Use NumPy to generate a random number between 0 and 1"
   ]
  },
  {
   "cell_type": "code",
   "execution_count": 22,
   "metadata": {
    "id": "Qc0873lsISns",
    "outputId": "87193cb3-bc96-4d42-c3f6-72f16089d733"
   },
   "outputs": [
    {
     "data": {
      "text/plain": [
       "array([0.36006898, 0.07970303, 0.40813074, 0.42221765, 0.33234442,\n",
       "       0.75405218, 0.10232804, 0.23152596, 0.35787392, 0.82054501])"
      ]
     },
     "execution_count": 22,
     "metadata": {},
     "output_type": "execute_result"
    }
   ],
   "source": [
    "array_rand=np.random.rand(10)\n",
    "array_rand"
   ]
  },
  {
   "cell_type": "markdown",
   "metadata": {
    "id": "EfIdRwDpISns"
   },
   "source": [
    "#### Use NumPy to generate an array of 25 random numbers sampled from a standard normal distribution"
   ]
  },
  {
   "cell_type": "code",
   "execution_count": 26,
   "metadata": {
    "id": "tp-WVtR9ISnt",
    "outputId": "874bf5e9-e715-48e9-91e9-85d27b9f049b",
    "scrolled": false
   },
   "outputs": [
    {
     "data": {
      "text/plain": [
       "array([ 0.48218906,  1.54677489, -0.51606836, -0.51203588, -1.32175717,\n",
       "        0.41376822,  0.71403276,  2.16213553, -0.09526736,  0.58507582,\n",
       "        0.11662035, -0.56979717, -0.5696133 , -2.05945165,  0.69036115,\n",
       "        1.60061236,  0.83990788, -0.37641617,  0.46182969, -0.34941191,\n",
       "        1.22308341, -0.79856609, -0.6461677 ,  0.06160389, -1.57275207])"
      ]
     },
     "execution_count": 26,
     "metadata": {},
     "output_type": "execute_result"
    }
   ],
   "source": [
    "array_random=np.random.normal(size=25)\n",
    "array_random"
   ]
  },
  {
   "cell_type": "markdown",
   "metadata": {
    "id": "7Mne8CckISnt"
   },
   "source": [
    "#### Create the following matrix:"
   ]
  },
  {
   "cell_type": "code",
   "execution_count": 28,
   "metadata": {
    "id": "r1YJUxFMISnt",
    "outputId": "505737ef-6f6e-40e4-f133-6da4a030628d"
   },
   "outputs": [
    {
     "data": {
      "text/plain": [
       "array([0.        , 0.02040816, 0.04081633, 0.06122449, 0.08163265,\n",
       "       0.10204082, 0.12244898, 0.14285714, 0.16326531, 0.18367347,\n",
       "       0.20408163, 0.2244898 , 0.24489796, 0.26530612, 0.28571429,\n",
       "       0.30612245, 0.32653061, 0.34693878, 0.36734694, 0.3877551 ,\n",
       "       0.40816327, 0.42857143, 0.44897959, 0.46938776, 0.48979592,\n",
       "       0.51020408, 0.53061224, 0.55102041, 0.57142857, 0.59183673,\n",
       "       0.6122449 , 0.63265306, 0.65306122, 0.67346939, 0.69387755,\n",
       "       0.71428571, 0.73469388, 0.75510204, 0.7755102 , 0.79591837,\n",
       "       0.81632653, 0.83673469, 0.85714286, 0.87755102, 0.89795918,\n",
       "       0.91836735, 0.93877551, 0.95918367, 0.97959184, 1.        ])"
      ]
     },
     "execution_count": 28,
     "metadata": {},
     "output_type": "execute_result"
    }
   ],
   "source": [
    "array_follwing=np.linspace(0,1)\n",
    "array_follwing"
   ]
  },
  {
   "cell_type": "markdown",
   "metadata": {
    "id": "DeOtVjdMISnt"
   },
   "source": [
    "#### Create an array of 20 linearly spaced points between 0 and 1:"
   ]
  },
  {
   "cell_type": "code",
   "execution_count": 29,
   "metadata": {
    "id": "riEFaxQPISnt",
    "outputId": "76fae24b-feba-4653-ca1c-ae332c2f9531",
    "scrolled": true
   },
   "outputs": [
    {
     "data": {
      "text/plain": [
       "array([0.        , 0.05263158, 0.10526316, 0.15789474, 0.21052632,\n",
       "       0.26315789, 0.31578947, 0.36842105, 0.42105263, 0.47368421,\n",
       "       0.52631579, 0.57894737, 0.63157895, 0.68421053, 0.73684211,\n",
       "       0.78947368, 0.84210526, 0.89473684, 0.94736842, 1.        ])"
      ]
     },
     "execution_count": 29,
     "metadata": {},
     "output_type": "execute_result"
    }
   ],
   "source": [
    "array_linearly=np.linspace(0,1,20)\n",
    "array_linearly"
   ]
  },
  {
   "cell_type": "markdown",
   "metadata": {
    "id": "MnC7L8i1ISnt"
   },
   "source": [
    "#### Numpy Indexing and Selection, write code that reproduces the output of the cell below"
   ]
  },
  {
   "cell_type": "code",
   "execution_count": 63,
   "metadata": {
    "id": "eo4Urf8IISnt",
    "outputId": "124193be-8804-45e4-bc88-cc3bde8e0e40"
   },
   "outputs": [
    {
     "data": {
      "text/plain": [
       "array([[ 1,  2,  3,  4,  5],\n",
       "       [ 6,  7,  8,  9, 10],\n",
       "       [11, 12, 13, 14, 15],\n",
       "       [16, 17, 18, 19, 20],\n",
       "       [21, 22, 23, 24, 25]])"
      ]
     },
     "execution_count": 63,
     "metadata": {},
     "output_type": "execute_result"
    }
   ],
   "source": [
    "array=np.arange(1,26).reshape(5,5)\n",
    "array"
   ]
  },
  {
   "cell_type": "code",
   "execution_count": 64,
   "metadata": {
    "id": "hdUThSvvISnt",
    "outputId": "2c7df70f-ee8d-4d79-ad17-00b915ae97f2"
   },
   "outputs": [
    {
     "data": {
      "text/plain": [
       "array([[13, 14, 15],\n",
       "       [18, 19, 20],\n",
       "       [23, 24, 25]])"
      ]
     },
     "execution_count": 64,
     "metadata": {},
     "output_type": "execute_result"
    }
   ],
   "source": [
    "array[2:,2:]# or solution array[2:][2:]"
   ]
  },
  {
   "cell_type": "code",
   "execution_count": 65,
   "metadata": {
    "id": "ryPYmDuTISnt",
    "outputId": "e37c60fd-a1da-4691-c392-955d0b19980e"
   },
   "outputs": [
    {
     "data": {
      "text/plain": [
       "20"
      ]
     },
     "execution_count": 65,
     "metadata": {},
     "output_type": "execute_result"
    }
   ],
   "source": [
    "array[-2,-1] # or solution array[-1][0]"
   ]
  },
  {
   "cell_type": "code",
   "execution_count": 66,
   "metadata": {
    "id": "QH9xdCVYISnt",
    "outputId": "46142d82-ec71-434b-e1de-352addfd8064"
   },
   "outputs": [
    {
     "data": {
      "text/plain": [
       "array([[ 2],\n",
       "       [ 7],\n",
       "       [12]])"
      ]
     },
     "execution_count": 66,
     "metadata": {},
     "output_type": "execute_result"
    }
   ],
   "source": [
    "array[0:3,1].reshape(3,1)"
   ]
  },
  {
   "cell_type": "code",
   "execution_count": null,
   "metadata": {
    "id": "pPvdGgX-ISnt",
    "outputId": "d772eeac-fad0-49d3-ac69-7c1ef23bbba2"
   },
   "outputs": [
    {
     "data": {
      "text/plain": [
       "array([[21, 22, 23, 24, 25]])"
      ]
     },
     "execution_count": 68,
     "metadata": {},
     "output_type": "execute_result"
    }
   ],
   "source": [
    "array[-1:,:] # or solution array[-1:][:]"
   ]
  },
  {
   "cell_type": "code",
   "execution_count": 69,
   "metadata": {
    "id": "1HmL72IXISnu",
    "outputId": "5627cd7f-4f4e-4d8c-fae2-9eadfae450a4"
   },
   "outputs": [
    {
     "data": {
      "text/plain": [
       "array([[16, 17, 18, 19, 20],\n",
       "       [21, 22, 23, 24, 25]])"
      ]
     },
     "execution_count": 69,
     "metadata": {},
     "output_type": "execute_result"
    }
   ],
   "source": [
    "array[-2:,:]"
   ]
  },
  {
   "cell_type": "markdown",
   "metadata": {
    "id": "YVqn1YZQISnu"
   },
   "source": [
    "#### Get the sum of all the values in mat"
   ]
  },
  {
   "cell_type": "code",
   "execution_count": 73,
   "metadata": {
    "id": "WfxJx9DOISnu",
    "outputId": "b7029d6e-d2af-4cea-cfec-fc2f0dc97a74"
   },
   "outputs": [
    {
     "data": {
      "text/plain": [
       "325"
      ]
     },
     "execution_count": 73,
     "metadata": {},
     "output_type": "execute_result"
    }
   ],
   "source": [
    "array.sum()"
   ]
  },
  {
   "cell_type": "markdown",
   "metadata": {
    "id": "2a4YW6lhISnu"
   },
   "source": [
    "#### Get the standard deviation of the values in mat"
   ]
  },
  {
   "cell_type": "code",
   "execution_count": 75,
   "metadata": {
    "id": "jVGlAtjAISnu",
    "outputId": "4ce9b496-c7c4-453f-937f-9c4babe94407"
   },
   "outputs": [
    {
     "data": {
      "text/plain": [
       "7.211102550927978"
      ]
     },
     "execution_count": 75,
     "metadata": {},
     "output_type": "execute_result"
    }
   ],
   "source": [
    "np.std(array)"
   ]
  },
  {
   "cell_type": "markdown",
   "metadata": {
    "id": "HhNoJbRhISnu"
   },
   "source": [
    "#### Get the sum of all the columns in mat"
   ]
  },
  {
   "cell_type": "code",
   "execution_count": null,
   "metadata": {
    "id": "H55Pes3eISnu",
    "outputId": "c0f32654-a51c-453c-8267-7862766d55f3"
   },
   "outputs": [
    {
     "data": {
      "text/plain": [
       "array([55, 60, 65, 70, 75])"
      ]
     },
     "execution_count": 76,
     "metadata": {},
     "output_type": "execute_result"
    }
   ],
   "source": [
    "array.sum(axis=0) # axis=0 in numpy indicates columns\n",
    "# axis =1 in pandas indicates columns "
   ]
  },
  {
   "cell_type": "markdown",
   "metadata": {
    "id": "gofEkWh1ISnv"
   },
   "source": [
    "=========="
   ]
  },
  {
   "cell_type": "code",
   "execution_count": null,
   "metadata": {
    "id": "B2ECQjD2ITfp"
   },
   "outputs": [],
   "source": [
    "#self study Task 2\n",
    "# https://www.w3schools.com/quiztest/quiztest.asp?qtest=NUMPY\n",
    "#https://www.w3schools.com/python/numpy/numpy_exercises.asp\n",
    "#https://www.w3resource.com/python-exercises/numpy/index.pup"
   ]
  },
  {
   "cell_type": "markdown",
   "metadata": {
    "id": "eB2ilWQuISnv"
   },
   "source": [
    "# Great Job!"
   ]
  }
 ],
 "metadata": {
  "colab": {
   "provenance": []
  },
  "kernelspec": {
   "display_name": "base",
   "language": "python",
   "name": "python3"
  },
  "language_info": {
   "codemirror_mode": {
    "name": "ipython",
    "version": 3
   },
   "file_extension": ".py",
   "mimetype": "text/x-python",
   "name": "python",
   "nbconvert_exporter": "python",
   "pygments_lexer": "ipython3",
   "version": "3.12.4"
  }
 },
 "nbformat": 4,
 "nbformat_minor": 0
}
